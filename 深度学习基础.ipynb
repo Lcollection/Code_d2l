{
 "cells": [
  {
   "cell_type": "code",
   "execution_count": 1,
   "id": "cef768c2",
   "metadata": {},
   "outputs": [],
   "source": [
    "# 线性回归 输出是一个连续值，例如 房屋价格预测、气温预测、销售额等连续值问题。Softmax回归适用于分类问题，所得到的是个离散数值"
   ]
  },
  {
   "cell_type": "code",
   "execution_count": 2,
   "id": "d62f3e65",
   "metadata": {},
   "outputs": [],
   "source": [
    "#矢量计算 在处理多个样本并用矢量计算"
   ]
  },
  {
   "cell_type": "code",
   "execution_count": 3,
   "id": "ac802cbe",
   "metadata": {},
   "outputs": [],
   "source": [
    "from mxnet import nd\n",
    "from time import time"
   ]
  },
  {
   "cell_type": "code",
   "execution_count": 4,
   "id": "fb41e663",
   "metadata": {},
   "outputs": [],
   "source": [
    "a = nd.ones(shape = 1000)\n",
    "b = nd.ones(shape = 1000)"
   ]
  },
  {
   "cell_type": "code",
   "execution_count": 5,
   "id": "1d006cdc",
   "metadata": {},
   "outputs": [
    {
     "data": {
      "text/plain": [
       "0.03756523132324219"
      ]
     },
     "execution_count": 5,
     "metadata": {},
     "output_type": "execute_result"
    }
   ],
   "source": [
    "start = time()\n",
    "c = nd .zeros(shape = 1000)\n",
    "for i in range(100):\n",
    "    c[i] = a[i] + b[i]\n",
    "time() - start\n",
    "# 将这两个向量按元素逐一进行标量加法b"
   ]
  },
  {
   "cell_type": "code",
   "execution_count": 6,
   "id": "835a1716",
   "metadata": {},
   "outputs": [
    {
     "data": {
      "text/plain": [
       "0.000698089599609375"
      ]
     },
     "execution_count": 6,
     "metadata": {},
     "output_type": "execute_result"
    }
   ],
   "source": [
    "start = time()\n",
    "d = a + b\n",
    "time() - start"
   ]
  }
 ],
 "metadata": {
  "kernelspec": {
   "display_name": "Python 3 (ipykernel)",
   "language": "python",
   "name": "python3"
  },
  "language_info": {
   "codemirror_mode": {
    "name": "ipython",
    "version": 3
   },
   "file_extension": ".py",
   "mimetype": "text/x-python",
   "name": "python",
   "nbconvert_exporter": "python",
   "pygments_lexer": "ipython3",
   "version": "3.10.0"
  }
 },
 "nbformat": 4,
 "nbformat_minor": 5
}
